{
  "nbformat": 4,
  "nbformat_minor": 0,
  "metadata": {
    "colab": {
      "name": "Akshay.ipynb",
      "provenance": []
    },
    "kernelspec": {
      "name": "python3",
      "display_name": "Python 3"
    },
    "language_info": {
      "name": "python"
    }
  },
  "cells": [
    {
      "cell_type": "code",
      "metadata": {
        "colab": {
          "base_uri": "https://localhost:8080/"
        },
        "id": "G9pwUdOnEnE_",
        "outputId": "6cfbd1c9-c45f-4930-dc64-265f738f35b8"
      },
      "source": [
        "    import hashlib\n",
        "    string2 = input(\"Enter a string:\")\n",
        "    newstring = \"abcd\" + string2 + \"wefgh\"\n",
        "    print()\n",
        "    print(\"After adding \\\"Salting\\\"\")\n",
        "    print()\n",
        "    print(new_string)\n",
        "    e = hashlib.md5(newstring.encode())\n",
        "    print()\n",
        "    a = e.hexdigest()\n",
        "    print(\"1 time using \\\"md5\\\"\")\n",
        "    print()\n",
        "    print(a)\n",
        "    print()\n",
        "    for i in range(2,5):\n",
        "      print(i, \"time using \\\"md5\\\"\")\n",
        "      print()\n",
        "      c = hashlib.md5(a.encode())\n",
        "      d = c.hexdigest()\n",
        "      a = d\n",
        "      print(d)\n",
        "      print()\n"
      ],
      "execution_count": 11,
      "outputs": [
        {
          "output_type": "stream",
          "text": [
            "Enter a string:abcd\n",
            "\n",
            "After adding \"Salting\"\n",
            "\n",
            "abcdabcdwefgh\n",
            "\n",
            "1 time using \"md5\"\n",
            "\n",
            "087bdab0573916a72c675cdbf1d7f379\n",
            "\n",
            "2 time using \"md5\"\n",
            "\n",
            "294e4db7487277f695d35782e22d4d6a\n",
            "\n",
            "3 time using \"md5\"\n",
            "\n",
            "89b0a45b1b090be51e3e492cc584c2fb\n",
            "\n",
            "4 time using \"md5\"\n",
            "\n",
            "8ff836340c28f034467a5e974df202f9\n",
            "\n"
          ],
          "name": "stdout"
        }
      ]
    },
    {
      "cell_type": "code",
      "metadata": {
        "colab": {
          "base_uri": "https://localhost:8080/"
        },
        "id": "QK4b5rmnMPNu",
        "outputId": "b983a47c-48ce-46c7-cd5b-376aa5452ad9"
      },
      "source": [
        "import hashlib\n",
        "string = input(\"Enter a string:\")\n",
        "\n",
        "en =  hashlib.md5(string.encode())\n",
        "\n",
        "print(en.hexdigest())"
      ],
      "execution_count": 15,
      "outputs": [
        {
          "output_type": "stream",
          "text": [
            "Enter a string:abcd\n",
            "e2fc714c4727ee9395f324cd2e7f331f\n"
          ],
          "name": "stdout"
        }
      ]
    },
    {
      "cell_type": "code",
      "metadata": {
        "colab": {
          "base_uri": "https://localhost:8080/"
        },
        "id": "8A_P6vzcMamz",
        "outputId": "802e9af1-fba9-4b03-eeab-7a18b6429ef0"
      },
      "source": [
        "import hashlib\n",
        "string1 = input(\"Enter a string:\")\n",
        "sh = hashlib.sha1(string1.encode())\n",
        "print()\n",
        "print(\"This is encoded using \\\"sha1\\\" algorithm\")\n",
        "print()\n",
        "print(sh.hexdigest())\n",
        "print()\n",
        "h = hashlib.sha512(string1.encode())\n",
        "print(\"This is encoded using \\\"sha512\\\" algorithm\")\n",
        "print()\n",
        "print(h.hexdigest())\n",
        "print()\n",
        "s = hashlib.blake2s(string1.encode())\n",
        "print(\"This is encoded using \\\"blake2s\\\" algorithm\")\n",
        "print()\n",
        "print(s.hexdigest())"
      ],
      "execution_count": 16,
      "outputs": [
        {
          "output_type": "stream",
          "text": [
            "Enter a string:abcd\n",
            "\n",
            "This is encoded using \"sha1\" algorithm\n",
            "\n",
            "81fe8bfe87576c3ecb22426f8e57847382917acf\n",
            "\n",
            "This is encoded using \"sha512\" algorithm\n",
            "\n",
            "d8022f2060ad6efd297ab73dcc5355c9b214054b0d1776a136a669d26a7d3b14f73aa0d0ebff19ee333368f0164b6419a96da49e3e481753e7e96b716bdccb6f\n",
            "\n",
            "This is encoded using \"blake2s\" algorithm\n",
            "\n",
            "716748cce97a0abc942e1d491bc25102f5b6ff71ee62a86abd605a6c40120169\n"
          ],
          "name": "stdout"
        }
      ]
    }
  ]
}